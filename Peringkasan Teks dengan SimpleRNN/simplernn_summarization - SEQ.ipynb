{
 "cells": [
  {
   "cell_type": "code",
   "execution_count": null,
   "metadata": {},
   "outputs": [],
   "source": [
    "# %% Import required libraries\n",
    "import json\n",
    "import pandas as pd\n",
    "import numpy as np\n",
    "from tensorflow.keras.models import Model\n",
    "from tensorflow.keras.layers import Input, SimpleRNN, Embedding, Dense, TimeDistributed\n",
    "from tensorflow.keras.preprocessing.text import Tokenizer\n",
    "from tensorflow.keras.preprocessing.sequence import pad_sequences\n",
    "from tensorflow.keras.optimizers import Adam\n",
    "from tensorflow.keras.callbacks import EarlyStopping, LearningRateScheduler\n",
    "import matplotlib.pyplot as plt\n",
    "from rouge import Rouge  # For evaluation metrics\n",
    "import numpy as np\n",
    "from tensorflow.keras.models import Sequential\n",
    "from tensorflow.keras.layers import SimpleRNN, Dense, Embedding\n",
    "from tensorflow.keras.preprocessing.text import Tokenizer\n",
    "from tensorflow.keras.preprocessing.sequence import pad_sequences\n",
    "from tensorflow.keras.utils import to_categorical"
   ]
  },
  {
   "cell_type": "code",
   "execution_count": null,
   "metadata": {},
   "outputs": [],
   "source": [
    "# %% Define function to load JSONL dataset from multiple files\n",
    "def load_dataset(paths):\n",
    "    data = []\n",
    "    for path in paths:\n",
    "        with open(path, 'r', encoding='utf-8') as f:\n",
    "            for line in f:\n",
    "                data.append(json.loads(line))\n",
    "    return data\n",
    "\n",
    "# Specify the list of JSONL file paths for training\n",
    "file_paths = [\n",
    "    'indosum/train.01.jsonl',\n",
    "    'indosum/train.02.jsonl',\n",
    "    'indosum/train.03.jsonl',\n",
    "    'indosum/train.04.jsonl',\n",
    "    'indosum/train.05.jsonl'\n",
    "]\n",
    "\n",
    "# Load all JSONL files into a dataset\n",
    "dataset_jsonl = load_dataset(file_paths)"
   ]
  },
  {
   "cell_type": "code",
   "execution_count": null,
   "metadata": {},
   "outputs": [],
   "source": [
    "len(dataset_jsonl)"
   ]
  },
  {
   "cell_type": "code",
   "execution_count": null,
   "metadata": {},
   "outputs": [],
   "source": [
    "dataset_jsonl[0]"
   ]
  },
  {
   "cell_type": "code",
   "execution_count": null,
   "metadata": {},
   "outputs": [],
   "source": [
    "dataset_jsonl[0].keys()"
   ]
  },
  {
   "cell_type": "code",
   "execution_count": null,
   "metadata": {},
   "outputs": [],
   "source": [
    "# %% Extract and clean data\n",
    "# Initialize lists for data extraction\n",
    "ids, categories, sources, urls, texts, summaries = [], [], [], [], [], []\n",
    "\n",
    "# Process each entry in the dataset\n",
    "for entry in dataset_jsonl:\n",
    "    ids.append(entry['id'])\n",
    "    categories.append(entry['category'])\n",
    "    sources.append(entry['source'])\n",
    "    urls.append(entry['source_url'])\n",
    "    \n",
    "    # Combine all tokens in paragraphs into one string for the text\n",
    "    full_text = ''.join([' '.join([' '.join(sentence) for sentence in paragraph]) for paragraph in entry['paragraphs']])\n",
    "    texts.append(full_text)\n",
    "    \n",
    "    # Combine tokens in summary into one string if available\n",
    "    if 'summary' in entry:\n",
    "        full_summary = ' '.join([' '.join(sentence) for sentence in entry['summary']])\n",
    "        summaries.append(full_summary)\n",
    "\n",
    "# Create DataFrame from extracted data\n",
    "df = pd.DataFrame({\n",
    "    \"id\": ids,\n",
    "    \"text\": texts,\n",
    "    \"summary\": summaries,\n",
    "    \"category\": categories,\n",
    "    \"source\": sources,\n",
    "    \"url\": urls\n",
    "})"
   ]
  },
  {
   "cell_type": "code",
   "execution_count": null,
   "metadata": {},
   "outputs": [],
   "source": [
    "df.head()"
   ]
  },
  {
   "cell_type": "code",
   "execution_count": null,
   "metadata": {},
   "outputs": [],
   "source": [
    "len(df)"
   ]
  },
  {
   "cell_type": "code",
   "execution_count": null,
   "metadata": {},
   "outputs": [],
   "source": [
    "df = df.drop_duplicates(subset=['id'])\n",
    "len(df)"
   ]
  },
  {
   "cell_type": "code",
   "execution_count": null,
   "metadata": {},
   "outputs": [],
   "source": [
    "df['source'].unique()"
   ]
  },
  {
   "cell_type": "code",
   "execution_count": null,
   "metadata": {},
   "outputs": [],
   "source": [
    "# Display the first row for each unique source\n",
    "df.groupby('source').head(1)"
   ]
  },
  {
   "cell_type": "code",
   "execution_count": null,
   "metadata": {},
   "outputs": [],
   "source": [
    "# %% Preprocess the text and summary (cleaning)\n",
    "import re\n",
    "\n",
    "# Define text cleaner function\n",
    "sources = np.array([\n",
    "    'cnn indonesia', 'dailysocial id', 'merdeka com', 'goal indonesia',\n",
    "    'juara net', 'kumparan', 'poskotanews', 'pos kota', 'suara com', 'antaranews', 'antara news'\n",
    "    'rimanews'\n",
    "])\n",
    "\n",
    "def text_cleaner(text):\n",
    "    text = text.lower()  # Convert to lowercase\n",
    "    text = re.sub(r\"[^a-zA-Z0-9\\s]\", \" \", text)  # Remove special characters\n",
    "    text = re.sub(r'\\b(?:' + '|'.join(re.escape(word) for word in sources) + r')\\b', \"\", text)\n",
    "    text = re.sub(r'\\s+', ' ', text).strip()  # Remove extra whitespaces\n",
    "    return text"
   ]
  },
  {
   "cell_type": "code",
   "execution_count": null,
   "metadata": {},
   "outputs": [],
   "source": [
    "# Text cleaner function test usage\n",
    "before = df['text'][0]\n",
    "after = text_cleaner(before)\n",
    "\n",
    "print(before)\n",
    "print(after)"
   ]
  },
  {
   "cell_type": "code",
   "execution_count": 14,
   "metadata": {},
   "outputs": [],
   "source": [
    "# Apply text cleaner function\n",
    "df['text'] = df['text'].apply(text_cleaner)\n",
    "df['summary'] = df['summary'].apply(text_cleaner)"
   ]
  },
  {
   "cell_type": "code",
   "execution_count": 15,
   "metadata": {},
   "outputs": [
    {
     "name": "stdout",
     "output_type": "stream",
     "text": [
      "jakarta militer amerika serikat akan melakukan uji coba rudal balistik antarbenua icbm pada rabu 2 8 waktu setempat berselang beberapa hari setelah korut meluncurkan icbm pekan lalu seorang pejabat militer as mengatakan uji coba rudal minuteman iii itu akan dilaksanakan di pangkalan udara vanderberg antara pukul 00 01 dan 06 01 waktu california tujuan dari program uji coba peluncuran icbm ini adalah untuk memvalidasi dan memverifikasi keefektifan kesiapan dan keakuratan sistem senjata ini demikian pernyataan komando serangan global angkatan udara as sebagaimana dilansir afp uji coba semacam ini biasanya direncanakan dari jauh hari namun uji coba ini direncanakan dalam waktu singkat tepat setelah korut menguji coba icbm pada jumat lalu sejak awal tahun pemimpin tertinggi korut kim jong un memang selalu memamerkan perkembangan program icbm negaranya pada juli saja korut sudah melakukan dua kali uji coba icbm yang dianggap sukses pada uji coba pertama kim menyebut uji coba itu merupakan hadiah bagi para bajingan amerika rudal itu memang diklaim dapat mencapai alaska rudal yang dipakai pada uji coba kedua dianggap lebih mutakhir dan dapat mencapai wilayah new york tapi para pejabat as masih meragukan kemampuan icbm korut setelah korut melakukan uji coba pada pekan lalu pejabat intelijen as akhirnya mengakui bahwa icbm yang dikembangkan korut memang dapat mencapai wilayah negaranya\n",
      "militer as dikabarkan akan melakukan uji coba rudal balistik antar benua icbm pada rabu 2 8 waktu setempat pekan sebelumnya korut juga melakukan aktivitas serupa dan sukses rudal korut diklaim dapat mencapai wilayah new york klaim tersebut kemudian diakui pula oleh pejabat intelijen as bagaimana jadinya jika kedua negara ini berduet rudal\n"
     ]
    }
   ],
   "source": [
    "# Example result after cleaning\n",
    "print(df['text'][10])\n",
    "print(df['summary'][10])"
   ]
  },
  {
   "cell_type": "code",
   "execution_count": 16,
   "metadata": {},
   "outputs": [
    {
     "data": {
      "image/png": "[encoded data removed]",
      "text/plain": [
       "<Figure size 640x480 with 2 Axes>"
      ]
     },
     "metadata": {},
     "output_type": "display_data"
    }
   ],
   "source": [
    "# %% Analyze length distribution of text and summary\n",
    "text_word_count = [len(text.split()) for text in df['text']]\n",
    "summary_word_count = [len(summary.split()) for summary in df['summary']]\n",
    "\n",
    "# Plot histograms\n",
    "length_df = pd.DataFrame({'text': text_word_count, 'summary': summary_word_count})\n",
    "length_df.hist(bins=30)\n",
    "plt.show()"
   ]
  },
  {
   "cell_type": "code",
   "execution_count": 17,
   "metadata": {},
   "outputs": [],
   "source": [
    "# Set maximum lengths based on histogram\n",
    "max_text_len = 250\n",
    "max_summary_len = 60"
   ]
  },
  {
   "cell_type": "code",
   "execution_count": 18,
   "metadata": {},
   "outputs": [],
   "source": [
    "# Filter short texts and summaries based on maximum length\n",
    "cleaned_text =np.array(df['text'])\n",
    "cleaned_summary=np.array(df['summary'])\n",
    "\n",
    "short_text=[]\n",
    "short_summary=[]\n",
    "\n",
    "for i in range(len(cleaned_text)):\n",
    "    if(len(cleaned_summary[i].split())<=max_summary_len and len(cleaned_text[i].split())<=max_text_len):\n",
    "        short_text.append(cleaned_text[i])\n",
    "        short_summary.append(cleaned_summary[i])"
   ]
  },
  {
   "cell_type": "code",
   "execution_count": 19,
   "metadata": {},
   "outputs": [
    {
     "data": {
      "text/html": [
       "<div>\n",
       "<style scoped>\n",
       "    .dataframe tbody tr th:only-of-type {\n",
       "        vertical-align: middle;\n",
       "    }\n",
       "\n",
       "    .dataframe tbody tr th {\n",
       "        vertical-align: top;\n",
       "    }\n",
       "\n",
       "    .dataframe thead th {\n",
       "        text-align: right;\n",
       "    }\n",
       "</style>\n",
       "<table border=\"1\" class=\"dataframe\">\n",
       "  <thead>\n",
       "    <tr style=\"text-align: right;\">\n",
       "      <th></th>\n",
       "      <th>text</th>\n",
       "      <th>summary</th>\n",
       "    </tr>\n",
       "  </thead>\n",
       "  <tbody>\n",
       "    <tr>\n",
       "      <th>0</th>\n",
       "      <td>jakarta militer amerika serikat akan melakukan...</td>\n",
       "      <td>militer as dikabarkan akan melakukan uji coba ...</td>\n",
       "    </tr>\n",
       "    <tr>\n",
       "      <th>1</th>\n",
       "      <td>jakarta runner up motogp 2017 andrea dovizioso...</td>\n",
       "      <td>runner up motogp 2017 andrea dovizioso mengaku...</td>\n",
       "    </tr>\n",
       "    <tr>\n",
       "      <th>2</th>\n",
       "      <td>brimob polda metro jaya mendatangi kantor lkbn...</td>\n",
       "      <td>brimob polda metro jaya mendatangi kantor lkbn...</td>\n",
       "    </tr>\n",
       "    <tr>\n",
       "      <th>3</th>\n",
       "      <td>ribuan perempuan di washington cd amerika seri...</td>\n",
       "      <td>ribuan perempuan di washington cd amerika seri...</td>\n",
       "    </tr>\n",
       "    <tr>\n",
       "      <th>4</th>\n",
       "      <td>rimanews rumania akan dipimpin oleh seorang pe...</td>\n",
       "      <td>rumania akan dipimpin oleh seorang perdana men...</td>\n",
       "    </tr>\n",
       "  </tbody>\n",
       "</table>\n",
       "</div>"
      ],
      "text/plain": [
       "                                                text  \\\n",
       "0  jakarta militer amerika serikat akan melakukan...   \n",
       "1  jakarta runner up motogp 2017 andrea dovizioso...   \n",
       "2  brimob polda metro jaya mendatangi kantor lkbn...   \n",
       "3  ribuan perempuan di washington cd amerika seri...   \n",
       "4  rimanews rumania akan dipimpin oleh seorang pe...   \n",
       "\n",
       "                                             summary  \n",
       "0  militer as dikabarkan akan melakukan uji coba ...  \n",
       "1  runner up motogp 2017 andrea dovizioso mengaku...  \n",
       "2  brimob polda metro jaya mendatangi kantor lkbn...  \n",
       "3  ribuan perempuan di washington cd amerika seri...  \n",
       "4  rumania akan dipimpin oleh seorang perdana men...  "
      ]
     },
     "execution_count": 19,
     "metadata": {},
     "output_type": "execute_result"
    }
   ],
   "source": [
    "df_short=pd.DataFrame({'text':short_text,'summary':short_summary})\n",
    "df_short.head()"
   ]
  },
  {
   "cell_type": "code",
   "execution_count": 20,
   "metadata": {},
   "outputs": [
    {
     "name": "stdout",
     "output_type": "stream",
     "text": [
      "250\n",
      "60\n"
     ]
    }
   ],
   "source": [
    "print(df_short['text'].str.split().str.len().max())\n",
    "print(df_short['summary'].str.split().str.len().max())"
   ]
  },
  {
   "cell_type": "code",
   "execution_count": 21,
   "metadata": {},
   "outputs": [],
   "source": [
    "# Add start and end tokens to summaries\n",
    "df_filtered_full = pd.DataFrame({'text': df_short['text'], 'summary': df_short['summary']})\n",
    "# df_filtered_full['summary'] = df_filtered_full['summary'].apply(lambda x: 'sostok ' + x + ' eostok')"
   ]
  },
  {
   "cell_type": "code",
   "execution_count": 22,
   "metadata": {},
   "outputs": [
    {
     "data": {
      "text/html": [
       "<div>\n",
       "<style scoped>\n",
       "    .dataframe tbody tr th:only-of-type {\n",
       "        vertical-align: middle;\n",
       "    }\n",
       "\n",
       "    .dataframe tbody tr th {\n",
       "        vertical-align: top;\n",
       "    }\n",
       "\n",
       "    .dataframe thead th {\n",
       "        text-align: right;\n",
       "    }\n",
       "</style>\n",
       "<table border=\"1\" class=\"dataframe\">\n",
       "  <thead>\n",
       "    <tr style=\"text-align: right;\">\n",
       "      <th></th>\n",
       "      <th>text</th>\n",
       "      <th>summary</th>\n",
       "    </tr>\n",
       "  </thead>\n",
       "  <tbody>\n",
       "    <tr>\n",
       "      <th>0</th>\n",
       "      <td>jakarta militer amerika serikat akan melakukan...</td>\n",
       "      <td>militer as dikabarkan akan melakukan uji coba ...</td>\n",
       "    </tr>\n",
       "    <tr>\n",
       "      <th>1</th>\n",
       "      <td>jakarta runner up motogp 2017 andrea dovizioso...</td>\n",
       "      <td>runner up motogp 2017 andrea dovizioso mengaku...</td>\n",
       "    </tr>\n",
       "    <tr>\n",
       "      <th>2</th>\n",
       "      <td>brimob polda metro jaya mendatangi kantor lkbn...</td>\n",
       "      <td>brimob polda metro jaya mendatangi kantor lkbn...</td>\n",
       "    </tr>\n",
       "    <tr>\n",
       "      <th>3</th>\n",
       "      <td>ribuan perempuan di washington cd amerika seri...</td>\n",
       "      <td>ribuan perempuan di washington cd amerika seri...</td>\n",
       "    </tr>\n",
       "    <tr>\n",
       "      <th>4</th>\n",
       "      <td>rimanews rumania akan dipimpin oleh seorang pe...</td>\n",
       "      <td>rumania akan dipimpin oleh seorang perdana men...</td>\n",
       "    </tr>\n",
       "  </tbody>\n",
       "</table>\n",
       "</div>"
      ],
      "text/plain": [
       "                                                text  \\\n",
       "0  jakarta militer amerika serikat akan melakukan...   \n",
       "1  jakarta runner up motogp 2017 andrea dovizioso...   \n",
       "2  brimob polda metro jaya mendatangi kantor lkbn...   \n",
       "3  ribuan perempuan di washington cd amerika seri...   \n",
       "4  rimanews rumania akan dipimpin oleh seorang pe...   \n",
       "\n",
       "                                             summary  \n",
       "0  militer as dikabarkan akan melakukan uji coba ...  \n",
       "1  runner up motogp 2017 andrea dovizioso mengaku...  \n",
       "2  brimob polda metro jaya mendatangi kantor lkbn...  \n",
       "3  ribuan perempuan di washington cd amerika seri...  \n",
       "4  rumania akan dipimpin oleh seorang perdana men...  "
      ]
     },
     "execution_count": 22,
     "metadata": {},
     "output_type": "execute_result"
    }
   ],
   "source": [
    "df_filtered_full.head()"
   ]
  },
  {
   "cell_type": "code",
   "execution_count": 23,
   "metadata": {},
   "outputs": [],
   "source": [
    "df_filtered = df_filtered_full[:1000]\n"
   ]
  },
  {
   "cell_type": "code",
   "execution_count": 24,
   "metadata": {},
   "outputs": [],
   "source": [
    "# %% Split dataset into training and validation sets\n",
    "from sklearn.model_selection import train_test_split\n",
    "train_df, val_df = train_test_split(df_filtered, test_size=0.2, random_state=42)"
   ]
  },
  {
   "cell_type": "code",
   "execution_count": 25,
   "metadata": {},
   "outputs": [],
   "source": [
    "# %% Tokenize and pad sequences\n",
    "tokenizer = Tokenizer()\n",
    "tokenizer.fit_on_texts(train_df['text'].tolist() + train_df['summary'].tolist())\n",
    "\n",
    "# Convert text and summary into sequences\n",
    "train_text_seq = pad_sequences(tokenizer.texts_to_sequences(train_df['text']), maxlen=max_text_len, padding='post')\n",
    "train_summary_seq = pad_sequences(tokenizer.texts_to_sequences(train_df['summary']), maxlen=max_summary_len, padding='post')\n",
    "val_text_seq = pad_sequences(tokenizer.texts_to_sequences(val_df['text']), maxlen=max_text_len, padding='post')\n",
    "val_summary_seq = pad_sequences(tokenizer.texts_to_sequences(val_df['summary']), maxlen=max_summary_len, padding='post')\n",
    "target_data = train_summary_seq"
   ]
  },
  {
   "cell_type": "code",
   "execution_count": 26,
   "metadata": {},
   "outputs": [],
   "source": [
    "# %% Define the RNN-based Encoder-Decoder model\n",
    "# Define model parameters\n",
    "vocab_size = len(tokenizer.word_index) + 1  # +1 for padding token\n",
    "embedding_dim = 300  # Dimension of the embedding space\n",
    "latent_dim = 300  # Latent dimensionality of the RNN"
   ]
  },
  {
   "cell_type": "code",
   "execution_count": 28,
   "metadata": {},
   "outputs": [
    {
     "name": "stdout",
     "output_type": "stream",
     "text": [
      "Epoch 1/25\n",
      "\u001b[1m25/25\u001b[0m \u001b[32m━━━━━━━━━━━━━━━━━━━━\u001b[0m\u001b[37m\u001b[0m \u001b[1m30s\u001b[0m 1s/step - accuracy: 0.0448 - loss: 9.1977 - val_accuracy: 0.1229 - val_loss: 7.3776 - learning_rate: 0.0010\n",
      "Epoch 2/25\n",
      "\u001b[1m25/25\u001b[0m \u001b[32m━━━━━━━━━━━━━━━━━━━━\u001b[0m\u001b[37m\u001b[0m \u001b[1m25s\u001b[0m 1s/step - accuracy: 0.0545 - loss: 7.8420 - val_accuracy: 0.1227 - val_loss: 7.3845 - learning_rate: 9.5000e-04\n",
      "Epoch 3/25\n",
      "\u001b[1m25/25\u001b[0m \u001b[32m━━━━━━━━━━━━━━━━━━━━\u001b[0m\u001b[37m\u001b[0m \u001b[1m31s\u001b[0m 1s/step - accuracy: 0.0543 - loss: 7.8126 - val_accuracy: 0.1225 - val_loss: 7.2364 - learning_rate: 9.0250e-04\n",
      "Epoch 4/25\n",
      "\u001b[1m25/25\u001b[0m \u001b[32m━━━━━━━━━━━━━━━━━━━━\u001b[0m\u001b[37m\u001b[0m \u001b[1m35s\u001b[0m 1s/step - accuracy: 0.0556 - loss: 7.6112 - val_accuracy: 0.1224 - val_loss: 7.0316 - learning_rate: 8.5737e-04\n",
      "Epoch 5/25\n",
      "\u001b[1m25/25\u001b[0m \u001b[32m━━━━━━━━━━━━━━━━━━━━\u001b[0m\u001b[37m\u001b[0m \u001b[1m39s\u001b[0m 2s/step - accuracy: 0.0582 - loss: 7.4895 - val_accuracy: 0.1597 - val_loss: 6.8344 - learning_rate: 8.1451e-04\n",
      "Epoch 6/25\n",
      "\u001b[1m25/25\u001b[0m \u001b[32m━━━━━━━━━━━━━━━━━━━━\u001b[0m\u001b[37m\u001b[0m \u001b[1m29s\u001b[0m 1s/step - accuracy: 0.0937 - loss: 7.3019 - val_accuracy: 0.1601 - val_loss: 6.6260 - learning_rate: 7.7378e-04\n",
      "Epoch 7/25\n",
      "\u001b[1m25/25\u001b[0m \u001b[32m━━━━━━━━━━━━━━━━━━━━\u001b[0m\u001b[37m\u001b[0m \u001b[1m33s\u001b[0m 1s/step - accuracy: 0.0991 - loss: 7.0058 - val_accuracy: 0.1830 - val_loss: 6.3658 - learning_rate: 7.3509e-04\n",
      "Epoch 8/25\n",
      "\u001b[1m25/25\u001b[0m \u001b[32m━━━━━━━━━━━━━━━━━━━━\u001b[0m\u001b[37m\u001b[0m \u001b[1m30s\u001b[0m 1s/step - accuracy: 0.1352 - loss: 6.7543 - val_accuracy: 0.2337 - val_loss: 6.1384 - learning_rate: 6.9834e-04\n",
      "Epoch 9/25\n",
      "\u001b[1m25/25\u001b[0m \u001b[32m━━━━━━━━━━━━━━━━━━━━\u001b[0m\u001b[37m\u001b[0m \u001b[1m25s\u001b[0m 1s/step - accuracy: 0.1700 - loss: 6.4837 - val_accuracy: 0.2552 - val_loss: 5.8896 - learning_rate: 6.6342e-04\n",
      "Epoch 10/25\n",
      "\u001b[1m25/25\u001b[0m \u001b[32m━━━━━━━━━━━━━━━━━━━━\u001b[0m\u001b[37m\u001b[0m \u001b[1m27s\u001b[0m 1s/step - accuracy: 0.1946 - loss: 6.1966 - val_accuracy: 0.2979 - val_loss: 5.6467 - learning_rate: 6.3025e-04\n",
      "Epoch 11/25\n",
      "\u001b[1m25/25\u001b[0m \u001b[32m━━━━━━━━━━━━━━━━━━━━\u001b[0m\u001b[37m\u001b[0m \u001b[1m27s\u001b[0m 1s/step - accuracy: 0.2404 - loss: 5.8987 - val_accuracy: 0.3256 - val_loss: 5.4054 - learning_rate: 5.9874e-04\n",
      "Epoch 12/25\n",
      "\u001b[1m25/25\u001b[0m \u001b[32m━━━━━━━━━━━━━━━━━━━━\u001b[0m\u001b[37m\u001b[0m \u001b[1m22s\u001b[0m 875ms/step - accuracy: 0.2705 - loss: 5.5910 - val_accuracy: 0.3602 - val_loss: 5.1727 - learning_rate: 5.6880e-04\n",
      "Epoch 13/25\n",
      "\u001b[1m25/25\u001b[0m \u001b[32m━━━━━━━━━━━━━━━━━━━━\u001b[0m\u001b[37m\u001b[0m \u001b[1m25s\u001b[0m 992ms/step - accuracy: 0.3082 - loss: 5.3387 - val_accuracy: 0.3991 - val_loss: 4.9468 - learning_rate: 5.4036e-04\n",
      "Epoch 14/25\n",
      "\u001b[1m25/25\u001b[0m \u001b[32m━━━━━━━━━━━━━━━━━━━━\u001b[0m\u001b[37m\u001b[0m \u001b[1m26s\u001b[0m 1s/step - accuracy: 0.3566 - loss: 5.0066 - val_accuracy: 0.4365 - val_loss: 4.7409 - learning_rate: 5.1334e-04\n",
      "Epoch 15/25\n",
      "\u001b[1m25/25\u001b[0m \u001b[32m━━━━━━━━━━━━━━━━━━━━\u001b[0m\u001b[37m\u001b[0m \u001b[1m28s\u001b[0m 1s/step - accuracy: 0.3872 - loss: 4.8213 - val_accuracy: 0.4715 - val_loss: 4.5360 - learning_rate: 4.8767e-04\n",
      "Epoch 16/25\n",
      "\u001b[1m25/25\u001b[0m \u001b[32m━━━━━━━━━━━━━━━━━━━━\u001b[0m\u001b[37m\u001b[0m \u001b[1m29s\u001b[0m 1s/step - accuracy: 0.4239 - loss: 4.5797 - val_accuracy: 0.5024 - val_loss: 4.3428 - learning_rate: 4.6329e-04\n",
      "Epoch 17/25\n",
      "\u001b[1m25/25\u001b[0m \u001b[32m━━━━━━━━━━━━━━━━━━━━\u001b[0m\u001b[37m\u001b[0m \u001b[1m26s\u001b[0m 1s/step - accuracy: 0.4548 - loss: 4.3311 - val_accuracy: 0.5259 - val_loss: 4.1574 - learning_rate: 4.4013e-04\n",
      "Epoch 18/25\n",
      "\u001b[1m25/25\u001b[0m \u001b[32m━━━━━━━━━━━━━━━━━━━━\u001b[0m\u001b[37m\u001b[0m \u001b[1m27s\u001b[0m 1s/step - accuracy: 0.4818 - loss: 4.1034 - val_accuracy: 0.5477 - val_loss: 3.9929 - learning_rate: 4.1812e-04\n",
      "Epoch 19/25\n",
      "\u001b[1m25/25\u001b[0m \u001b[32m━━━━━━━━━━━━━━━━━━━━\u001b[0m\u001b[37m\u001b[0m \u001b[1m24s\u001b[0m 972ms/step - accuracy: 0.5053 - loss: 3.9133 - val_accuracy: 0.5722 - val_loss: 3.8407 - learning_rate: 3.9721e-04\n",
      "Epoch 20/25\n",
      "\u001b[1m25/25\u001b[0m \u001b[32m━━━━━━━━━━━━━━━━━━━━\u001b[0m\u001b[37m\u001b[0m \u001b[1m26s\u001b[0m 1s/step - accuracy: 0.5283 - loss: 3.7242 - val_accuracy: 0.5915 - val_loss: 3.6973 - learning_rate: 3.7735e-04\n",
      "Epoch 21/25\n",
      "\u001b[1m25/25\u001b[0m \u001b[32m━━━━━━━━━━━━━━━━━━━━\u001b[0m\u001b[37m\u001b[0m \u001b[1m30s\u001b[0m 1s/step - accuracy: 0.5546 - loss: 3.5412 - val_accuracy: 0.6117 - val_loss: 3.5724 - learning_rate: 3.5849e-04\n",
      "Epoch 22/25\n",
      "\u001b[1m25/25\u001b[0m \u001b[32m━━━━━━━━━━━━━━━━━━━━\u001b[0m\u001b[37m\u001b[0m \u001b[1m29s\u001b[0m 1s/step - accuracy: 0.5744 - loss: 3.3850 - val_accuracy: 0.6284 - val_loss: 3.4514 - learning_rate: 3.4056e-04\n",
      "Epoch 23/25\n",
      "\u001b[1m25/25\u001b[0m \u001b[32m━━━━━━━━━━━━━━━━━━━━\u001b[0m\u001b[37m\u001b[0m \u001b[1m29s\u001b[0m 1s/step - accuracy: 0.5959 - loss: 3.2345 - val_accuracy: 0.6458 - val_loss: 3.3485 - learning_rate: 3.2353e-04\n",
      "Epoch 24/25\n",
      "\u001b[1m25/25\u001b[0m \u001b[32m━━━━━━━━━━━━━━━━━━━━\u001b[0m\u001b[37m\u001b[0m \u001b[1m29s\u001b[0m 1s/step - accuracy: 0.6209 - loss: 3.0595 - val_accuracy: 0.6575 - val_loss: 3.2509 - learning_rate: 3.0736e-04\n",
      "Epoch 25/25\n",
      "\u001b[1m25/25\u001b[0m \u001b[32m━━━━━━━━━━━━━━━━━━━━\u001b[0m\u001b[37m\u001b[0m \u001b[1m29s\u001b[0m 1s/step - accuracy: 0.6388 - loss: 2.9293 - val_accuracy: 0.6694 - val_loss: 3.1634 - learning_rate: 2.9199e-04\n"
     ]
    }
   ],
   "source": [
    "from tensorflow.keras.models import Sequential\n",
    "from tensorflow.keras.layers import SimpleRNN, Dense, Embedding\n",
    "from tensorflow.keras.callbacks import EarlyStopping, LearningRateScheduler\n",
    "from tensorflow.keras.optimizers import Adam\n",
    "\n",
    "# Define the model with max_summary_len\n",
    "model = Sequential([\n",
    "    Embedding(input_dim=vocab_size, output_dim=embedding_dim, input_length=max_summary_len),\n",
    "    SimpleRNN(units=latent_dim, return_sequences=True),\n",
    "    Dense(vocab_size, activation='softmax')\n",
    "])\n",
    "\n",
    "# Compile the model\n",
    "optimizer = Adam(learning_rate=0.001)\n",
    "model.compile(optimizer=optimizer, loss='sparse_categorical_crossentropy', metrics=['accuracy'])\n",
    "\n",
    "# Learning rate schedule function\n",
    "def lr_schedule(epoch):\n",
    "    initial_lr = 0.001\n",
    "    lr_decay = 0.95\n",
    "    return initial_lr * (lr_decay ** epoch)\n",
    "\n",
    "# Early stopping\n",
    "early_stopping = EarlyStopping(monitor='val_loss', patience=3, restore_best_weights=True)\n",
    "\n",
    "# Train the model\n",
    "batch_size = 32\n",
    "epochs = 25\n",
    "history = model.fit(\n",
    "    train_summary_seq,   # Use target length sequences as input\n",
    "    target_data, \n",
    "    batch_size=batch_size, \n",
    "    epochs=epochs, \n",
    "    validation_data=(val_summary_seq, val_summary_seq),  # Validation on summary length as well\n",
    "    callbacks=[LearningRateScheduler(lr_schedule), early_stopping]\n",
    ")\n"
   ]
  },
  {
   "cell_type": "code",
   "execution_count": 29,
   "metadata": {},
   "outputs": [
    {
     "data": {
      "image/png": "[encoded data removed]",
      "text/plain": [
       "<Figure size 640x480 with 1 Axes>"
      ]
     },
     "metadata": {},
     "output_type": "display_data"
    },
    {
     "data": {
      "image/png": "[encoded data removed]",
      "text/plain": [
       "<Figure size 640x480 with 1 Axes>"
      ]
     },
     "metadata": {},
     "output_type": "display_data"
    }
   ],
   "source": [
    "# %% Plot training and validation loss\n",
    "plt.plot(history.history['loss'], label='Training Loss')\n",
    "plt.plot(history.history['accuracy'], label='Training Accuracy')\n",
    "plt.title('Model Training Result')\n",
    "# plt.ylabel('Loss')\n",
    "plt.xlabel('Epoch')\n",
    "plt.legend(loc='upper right')\n",
    "plt.grid()\n",
    "plt.show()\n",
    "\n",
    "plt.plot(history.history['val_accuracy'], label='Validation Accuracy')\n",
    "plt.plot(history.history['val_loss'], label='Validation Loss')\n",
    "plt.title('Model Validation Result')\n",
    "# plt.ylabel('Loss')\n",
    "plt.xlabel('Epoch')\n",
    "plt.legend(loc='upper right')\n",
    "plt.grid()\n",
    "plt.show()"
   ]
  },
  {
   "cell_type": "code",
   "execution_count": 30,
   "metadata": {},
   "outputs": [
    {
     "name": "stderr",
     "output_type": "stream",
     "text": [
      "WARNING:absl:You are saving your model as an HDF5 file via `model.save()` or `keras.saving.save_model(model)`. This file format is considered legacy. We recommend using instead the native Keras format, e.g. `model.save('my_model.keras')` or `keras.saving.save_model(model, 'my_model.keras')`. \n"
     ]
    }
   ],
   "source": [
    "# %% Save the model\n",
    "model.save(f'export/20-11_SEQ_simplernn_loss_{history.history['loss'][-1]}.h5')"
   ]
  },
  {
   "cell_type": "code",
   "execution_count": 32,
   "metadata": {},
   "outputs": [],
   "source": [
    "# Take sample from new dataset to try summary for testing\n",
    "df_predict = df_filtered_full[1000:1100]"
   ]
  },
  {
   "cell_type": "code",
   "execution_count": 36,
   "metadata": {},
   "outputs": [
    {
     "data": {
      "text/html": [
       "<div>\n",
       "<style scoped>\n",
       "    .dataframe tbody tr th:only-of-type {\n",
       "        vertical-align: middle;\n",
       "    }\n",
       "\n",
       "    .dataframe tbody tr th {\n",
       "        vertical-align: top;\n",
       "    }\n",
       "\n",
       "    .dataframe thead th {\n",
       "        text-align: right;\n",
       "    }\n",
       "</style>\n",
       "<table border=\"1\" class=\"dataframe\">\n",
       "  <thead>\n",
       "    <tr style=\"text-align: right;\">\n",
       "      <th></th>\n",
       "      <th>text</th>\n",
       "      <th>summary</th>\n",
       "    </tr>\n",
       "  </thead>\n",
       "  <tbody>\n",
       "    <tr>\n",
       "      <th>1000</th>\n",
       "      <td>algiers aljazair antara news pada rabu waktu s...</td>\n",
       "      <td>organisasi negara pengekspor minyak opec membu...</td>\n",
       "    </tr>\n",
       "    <tr>\n",
       "      <th>1001</th>\n",
       "      <td>jakarta kepala divisi humas polri inspektur je...</td>\n",
       "      <td>kepala divisi humas polri inspektur jenderal s...</td>\n",
       "    </tr>\n",
       "    <tr>\n",
       "      <th>1002</th>\n",
       "      <td>smartphone telah menyatu dengan kehidupan menu...</td>\n",
       "      <td>bagi pengguna smartphone berbasis android goog...</td>\n",
       "    </tr>\n",
       "    <tr>\n",
       "      <th>1003</th>\n",
       "      <td>jakarta chicco jerikho tidak merayakan lebaran...</td>\n",
       "      <td>chicco jerikho tidak merayakan lebaran meski b...</td>\n",
       "    </tr>\n",
       "    <tr>\n",
       "      <th>1004</th>\n",
       "      <td>jakarta presiden meksiko enrique pena nieto me...</td>\n",
       "      <td>presiden meksiko enrique pena nieto menunda re...</td>\n",
       "    </tr>\n",
       "    <tr>\n",
       "      <th>...</th>\n",
       "      <td>...</td>\n",
       "      <td>...</td>\n",
       "    </tr>\n",
       "    <tr>\n",
       "      <th>1095</th>\n",
       "      <td>jakarta manchester city menang telak atas leic...</td>\n",
       "      <td>manchester city menang telak atas leicester ci...</td>\n",
       "    </tr>\n",
       "    <tr>\n",
       "      <th>1096</th>\n",
       "      <td>jakarta kepolisian kota strasburg negara bagia...</td>\n",
       "      <td>mulai bulan ini kepolisian strasburg negara ba...</td>\n",
       "    </tr>\n",
       "    <tr>\n",
       "      <th>1097</th>\n",
       "      <td>tangerang polda metro jaya melalukan identifik...</td>\n",
       "      <td>polda metro jaya melalukan identifikasi korban...</td>\n",
       "    </tr>\n",
       "    <tr>\n",
       "      <th>1098</th>\n",
       "      <td>jakarta wakil gubernur dki jakarta sandiaga un...</td>\n",
       "      <td>wakil gubernur dki jakarta sandiaga uno memper...</td>\n",
       "    </tr>\n",
       "    <tr>\n",
       "      <th>1099</th>\n",
       "      <td>jakarta pabrikan otomotif asal china wuling ak...</td>\n",
       "      <td>pabrikan otomotif asal china wuling akan seger...</td>\n",
       "    </tr>\n",
       "  </tbody>\n",
       "</table>\n",
       "<p>100 rows × 2 columns</p>\n",
       "</div>"
      ],
      "text/plain": [
       "                                                   text  \\\n",
       "1000  algiers aljazair antara news pada rabu waktu s...   \n",
       "1001  jakarta kepala divisi humas polri inspektur je...   \n",
       "1002  smartphone telah menyatu dengan kehidupan menu...   \n",
       "1003  jakarta chicco jerikho tidak merayakan lebaran...   \n",
       "1004  jakarta presiden meksiko enrique pena nieto me...   \n",
       "...                                                 ...   \n",
       "1095  jakarta manchester city menang telak atas leic...   \n",
       "1096  jakarta kepolisian kota strasburg negara bagia...   \n",
       "1097  tangerang polda metro jaya melalukan identifik...   \n",
       "1098  jakarta wakil gubernur dki jakarta sandiaga un...   \n",
       "1099  jakarta pabrikan otomotif asal china wuling ak...   \n",
       "\n",
       "                                                summary  \n",
       "1000  organisasi negara pengekspor minyak opec membu...  \n",
       "1001  kepala divisi humas polri inspektur jenderal s...  \n",
       "1002  bagi pengguna smartphone berbasis android goog...  \n",
       "1003  chicco jerikho tidak merayakan lebaran meski b...  \n",
       "1004  presiden meksiko enrique pena nieto menunda re...  \n",
       "...                                                 ...  \n",
       "1095  manchester city menang telak atas leicester ci...  \n",
       "1096  mulai bulan ini kepolisian strasburg negara ba...  \n",
       "1097  polda metro jaya melalukan identifikasi korban...  \n",
       "1098  wakil gubernur dki jakarta sandiaga uno memper...  \n",
       "1099  pabrikan otomotif asal china wuling akan seger...  \n",
       "\n",
       "[100 rows x 2 columns]"
      ]
     },
     "execution_count": 36,
     "metadata": {},
     "output_type": "execute_result"
    }
   ],
   "source": [
    "df_predict"
   ]
  },
  {
   "cell_type": "code",
   "execution_count": 37,
   "metadata": {},
   "outputs": [],
   "source": [
    "df_predict.reset_index(inplace = True, drop = True)\n",
    "df_predict.index = np.arange(len(df_predict))"
   ]
  },
  {
   "cell_type": "code",
   "execution_count": 38,
   "metadata": {},
   "outputs": [
    {
     "data": {
      "text/html": [
       "<div>\n",
       "<style scoped>\n",
       "    .dataframe tbody tr th:only-of-type {\n",
       "        vertical-align: middle;\n",
       "    }\n",
       "\n",
       "    .dataframe tbody tr th {\n",
       "        vertical-align: top;\n",
       "    }\n",
       "\n",
       "    .dataframe thead th {\n",
       "        text-align: right;\n",
       "    }\n",
       "</style>\n",
       "<table border=\"1\" class=\"dataframe\">\n",
       "  <thead>\n",
       "    <tr style=\"text-align: right;\">\n",
       "      <th></th>\n",
       "      <th>text</th>\n",
       "      <th>summary</th>\n",
       "    </tr>\n",
       "  </thead>\n",
       "  <tbody>\n",
       "    <tr>\n",
       "      <th>0</th>\n",
       "      <td>algiers aljazair antara news pada rabu waktu s...</td>\n",
       "      <td>organisasi negara pengekspor minyak opec membu...</td>\n",
       "    </tr>\n",
       "    <tr>\n",
       "      <th>1</th>\n",
       "      <td>jakarta kepala divisi humas polri inspektur je...</td>\n",
       "      <td>kepala divisi humas polri inspektur jenderal s...</td>\n",
       "    </tr>\n",
       "    <tr>\n",
       "      <th>2</th>\n",
       "      <td>smartphone telah menyatu dengan kehidupan menu...</td>\n",
       "      <td>bagi pengguna smartphone berbasis android goog...</td>\n",
       "    </tr>\n",
       "    <tr>\n",
       "      <th>3</th>\n",
       "      <td>jakarta chicco jerikho tidak merayakan lebaran...</td>\n",
       "      <td>chicco jerikho tidak merayakan lebaran meski b...</td>\n",
       "    </tr>\n",
       "    <tr>\n",
       "      <th>4</th>\n",
       "      <td>jakarta presiden meksiko enrique pena nieto me...</td>\n",
       "      <td>presiden meksiko enrique pena nieto menunda re...</td>\n",
       "    </tr>\n",
       "    <tr>\n",
       "      <th>...</th>\n",
       "      <td>...</td>\n",
       "      <td>...</td>\n",
       "    </tr>\n",
       "    <tr>\n",
       "      <th>95</th>\n",
       "      <td>jakarta manchester city menang telak atas leic...</td>\n",
       "      <td>manchester city menang telak atas leicester ci...</td>\n",
       "    </tr>\n",
       "    <tr>\n",
       "      <th>96</th>\n",
       "      <td>jakarta kepolisian kota strasburg negara bagia...</td>\n",
       "      <td>mulai bulan ini kepolisian strasburg negara ba...</td>\n",
       "    </tr>\n",
       "    <tr>\n",
       "      <th>97</th>\n",
       "      <td>tangerang polda metro jaya melalukan identifik...</td>\n",
       "      <td>polda metro jaya melalukan identifikasi korban...</td>\n",
       "    </tr>\n",
       "    <tr>\n",
       "      <th>98</th>\n",
       "      <td>jakarta wakil gubernur dki jakarta sandiaga un...</td>\n",
       "      <td>wakil gubernur dki jakarta sandiaga uno memper...</td>\n",
       "    </tr>\n",
       "    <tr>\n",
       "      <th>99</th>\n",
       "      <td>jakarta pabrikan otomotif asal china wuling ak...</td>\n",
       "      <td>pabrikan otomotif asal china wuling akan seger...</td>\n",
       "    </tr>\n",
       "  </tbody>\n",
       "</table>\n",
       "<p>100 rows × 2 columns</p>\n",
       "</div>"
      ],
      "text/plain": [
       "                                                 text  \\\n",
       "0   algiers aljazair antara news pada rabu waktu s...   \n",
       "1   jakarta kepala divisi humas polri inspektur je...   \n",
       "2   smartphone telah menyatu dengan kehidupan menu...   \n",
       "3   jakarta chicco jerikho tidak merayakan lebaran...   \n",
       "4   jakarta presiden meksiko enrique pena nieto me...   \n",
       "..                                                ...   \n",
       "95  jakarta manchester city menang telak atas leic...   \n",
       "96  jakarta kepolisian kota strasburg negara bagia...   \n",
       "97  tangerang polda metro jaya melalukan identifik...   \n",
       "98  jakarta wakil gubernur dki jakarta sandiaga un...   \n",
       "99  jakarta pabrikan otomotif asal china wuling ak...   \n",
       "\n",
       "                                              summary  \n",
       "0   organisasi negara pengekspor minyak opec membu...  \n",
       "1   kepala divisi humas polri inspektur jenderal s...  \n",
       "2   bagi pengguna smartphone berbasis android goog...  \n",
       "3   chicco jerikho tidak merayakan lebaran meski b...  \n",
       "4   presiden meksiko enrique pena nieto menunda re...  \n",
       "..                                                ...  \n",
       "95  manchester city menang telak atas leicester ci...  \n",
       "96  mulai bulan ini kepolisian strasburg negara ba...  \n",
       "97  polda metro jaya melalukan identifikasi korban...  \n",
       "98  wakil gubernur dki jakarta sandiaga uno memper...  \n",
       "99  pabrikan otomotif asal china wuling akan seger...  \n",
       "\n",
       "[100 rows x 2 columns]"
      ]
     },
     "execution_count": 38,
     "metadata": {},
     "output_type": "execute_result"
    }
   ],
   "source": [
    "df_predict"
   ]
  },
  {
   "cell_type": "code",
   "execution_count": 39,
   "metadata": {},
   "outputs": [],
   "source": [
    "# Prediction and decoding functions\n",
    "def decode_sequence(sequence):\n",
    "    return ' '.join([tokenizer.index_word.get(i, '') for i in sequence if i != 0])\n",
    "\n",
    "def generate_summary(article):\n",
    "    article_sequence = tokenizer.texts_to_sequences([article])\n",
    "    article_padded = pad_sequences(article_sequence, maxlen=max_text_len, padding='post')\n",
    "    predicted = model.predict(article_padded)\n",
    "    predicted_sequence = np.argmax(predicted, axis=-1)\n",
    "    return decode_sequence(predicted_sequence[0])\n"
   ]
  },
  {
   "cell_type": "code",
   "execution_count": 40,
   "metadata": {},
   "outputs": [
    {
     "name": "stdout",
     "output_type": "stream",
     "text": [
      "\u001b[1m1/1\u001b[0m \u001b[32m━━━━━━━━━━━━━━━━━━━━\u001b[0m\u001b[37m\u001b[0m \u001b[1m0s\u001b[0m 188ms/step\n",
      "\u001b[1m1/1\u001b[0m \u001b[32m━━━━━━━━━━━━━━━━━━━━\u001b[0m\u001b[37m\u001b[0m \u001b[1m0s\u001b[0m 57ms/step\n",
      "\u001b[1m1/1\u001b[0m \u001b[32m━━━━━━━━━━━━━━━━━━━━\u001b[0m\u001b[37m\u001b[0m \u001b[1m0s\u001b[0m 53ms/step\n",
      "\u001b[1m1/1\u001b[0m \u001b[32m━━━━━━━━━━━━━━━━━━━━\u001b[0m\u001b[37m\u001b[0m \u001b[1m0s\u001b[0m 61ms/step\n",
      "\u001b[1m1/1\u001b[0m \u001b[32m━━━━━━━━━━━━━━━━━━━━\u001b[0m\u001b[37m\u001b[0m \u001b[1m0s\u001b[0m 70ms/step\n",
      "\u001b[1m1/1\u001b[0m \u001b[32m━━━━━━━━━━━━━━━━━━━━\u001b[0m\u001b[37m\u001b[0m \u001b[1m0s\u001b[0m 70ms/step\n",
      "\u001b[1m1/1\u001b[0m \u001b[32m━━━━━━━━━━━━━━━━━━━━\u001b[0m\u001b[37m\u001b[0m \u001b[1m0s\u001b[0m 70ms/step\n",
      "\u001b[1m1/1\u001b[0m \u001b[32m━━━━━━━━━━━━━━━━━━━━\u001b[0m\u001b[37m\u001b[0m \u001b[1m0s\u001b[0m 67ms/step\n",
      "\u001b[1m1/1\u001b[0m \u001b[32m━━━━━━━━━━━━━━━━━━━━\u001b[0m\u001b[37m\u001b[0m \u001b[1m0s\u001b[0m 56ms/step\n",
      "\u001b[1m1/1\u001b[0m \u001b[32m━━━━━━━━━━━━━━━━━━━━\u001b[0m\u001b[37m\u001b[0m \u001b[1m0s\u001b[0m 69ms/step\n",
      "\u001b[1m1/1\u001b[0m \u001b[32m━━━━━━━━━━━━━━━━━━━━\u001b[0m\u001b[37m\u001b[0m \u001b[1m0s\u001b[0m 63ms/step\n",
      "\u001b[1m1/1\u001b[0m \u001b[32m━━━━━━━━━━━━━━━━━━━━\u001b[0m\u001b[37m\u001b[0m \u001b[1m0s\u001b[0m 68ms/step\n",
      "\u001b[1m1/1\u001b[0m \u001b[32m━━━━━━━━━━━━━━━━━━━━\u001b[0m\u001b[37m\u001b[0m \u001b[1m0s\u001b[0m 104ms/step\n",
      "\u001b[1m1/1\u001b[0m \u001b[32m━━━━━━━━━━━━━━━━━━━━\u001b[0m\u001b[37m\u001b[0m \u001b[1m0s\u001b[0m 74ms/step\n",
      "\u001b[1m1/1\u001b[0m \u001b[32m━━━━━━━━━━━━━━━━━━━━\u001b[0m\u001b[37m\u001b[0m \u001b[1m0s\u001b[0m 65ms/step\n",
      "\u001b[1m1/1\u001b[0m \u001b[32m━━━━━━━━━━━━━━━━━━━━\u001b[0m\u001b[37m\u001b[0m \u001b[1m0s\u001b[0m 74ms/step\n",
      "\u001b[1m1/1\u001b[0m \u001b[32m━━━━━━━━━━━━━━━━━━━━\u001b[0m\u001b[37m\u001b[0m \u001b[1m0s\u001b[0m 58ms/step\n",
      "\u001b[1m1/1\u001b[0m \u001b[32m━━━━━━━━━━━━━━━━━━━━\u001b[0m\u001b[37m\u001b[0m \u001b[1m0s\u001b[0m 56ms/step\n",
      "\u001b[1m1/1\u001b[0m \u001b[32m━━━━━━━━━━━━━━━━━━━━\u001b[0m\u001b[37m\u001b[0m \u001b[1m0s\u001b[0m 55ms/step\n",
      "\u001b[1m1/1\u001b[0m \u001b[32m━━━━━━━━━━━━━━━━━━━━\u001b[0m\u001b[37m\u001b[0m \u001b[1m0s\u001b[0m 55ms/step\n",
      "\u001b[1m1/1\u001b[0m \u001b[32m━━━━━━━━━━━━━━━━━━━━\u001b[0m\u001b[37m\u001b[0m \u001b[1m0s\u001b[0m 60ms/step\n",
      "\u001b[1m1/1\u001b[0m \u001b[32m━━━━━━━━━━━━━━━━━━━━\u001b[0m\u001b[37m\u001b[0m \u001b[1m0s\u001b[0m 73ms/step\n",
      "\u001b[1m1/1\u001b[0m \u001b[32m━━━━━━━━━━━━━━━━━━━━\u001b[0m\u001b[37m\u001b[0m \u001b[1m0s\u001b[0m 70ms/step\n",
      "\u001b[1m1/1\u001b[0m \u001b[32m━━━━━━━━━━━━━━━━━━━━\u001b[0m\u001b[37m\u001b[0m \u001b[1m0s\u001b[0m 50ms/step\n",
      "\u001b[1m1/1\u001b[0m \u001b[32m━━━━━━━━━━━━━━━━━━━━\u001b[0m\u001b[37m\u001b[0m \u001b[1m0s\u001b[0m 63ms/step\n",
      "\u001b[1m1/1\u001b[0m \u001b[32m━━━━━━━━━━━━━━━━━━━━\u001b[0m\u001b[37m\u001b[0m \u001b[1m0s\u001b[0m 58ms/step\n",
      "\u001b[1m1/1\u001b[0m \u001b[32m━━━━━━━━━━━━━━━━━━━━\u001b[0m\u001b[37m\u001b[0m \u001b[1m0s\u001b[0m 56ms/step\n",
      "\u001b[1m1/1\u001b[0m \u001b[32m━━━━━━━━━━━━━━━━━━━━\u001b[0m\u001b[37m\u001b[0m \u001b[1m0s\u001b[0m 53ms/step\n",
      "\u001b[1m1/1\u001b[0m \u001b[32m━━━━━━━━━━━━━━━━━━━━\u001b[0m\u001b[37m\u001b[0m \u001b[1m0s\u001b[0m 59ms/step\n",
      "\u001b[1m1/1\u001b[0m \u001b[32m━━━━━━━━━━━━━━━━━━━━\u001b[0m\u001b[37m\u001b[0m \u001b[1m0s\u001b[0m 83ms/step\n",
      "\u001b[1m1/1\u001b[0m \u001b[32m━━━━━━━━━━━━━━━━━━━━\u001b[0m\u001b[37m\u001b[0m \u001b[1m0s\u001b[0m 66ms/step\n",
      "\u001b[1m1/1\u001b[0m \u001b[32m━━━━━━━━━━━━━━━━━━━━\u001b[0m\u001b[37m\u001b[0m \u001b[1m0s\u001b[0m 54ms/step\n",
      "\u001b[1m1/1\u001b[0m \u001b[32m━━━━━━━━━━━━━━━━━━━━\u001b[0m\u001b[37m\u001b[0m \u001b[1m0s\u001b[0m 51ms/step\n",
      "\u001b[1m1/1\u001b[0m \u001b[32m━━━━━━━━━━━━━━━━━━━━\u001b[0m\u001b[37m\u001b[0m \u001b[1m0s\u001b[0m 59ms/step\n",
      "\u001b[1m1/1\u001b[0m \u001b[32m━━━━━━━━━━━━━━━━━━━━\u001b[0m\u001b[37m\u001b[0m \u001b[1m0s\u001b[0m 52ms/step\n",
      "\u001b[1m1/1\u001b[0m \u001b[32m━━━━━━━━━━━━━━━━━━━━\u001b[0m\u001b[37m\u001b[0m \u001b[1m0s\u001b[0m 52ms/step\n",
      "\u001b[1m1/1\u001b[0m \u001b[32m━━━━━━━━━━━━━━━━━━━━\u001b[0m\u001b[37m\u001b[0m \u001b[1m0s\u001b[0m 65ms/step\n",
      "\u001b[1m1/1\u001b[0m \u001b[32m━━━━━━━━━━━━━━━━━━━━\u001b[0m\u001b[37m\u001b[0m \u001b[1m0s\u001b[0m 56ms/step\n",
      "\u001b[1m1/1\u001b[0m \u001b[32m━━━━━━━━━━━━━━━━━━━━\u001b[0m\u001b[37m\u001b[0m \u001b[1m0s\u001b[0m 56ms/step\n",
      "\u001b[1m1/1\u001b[0m \u001b[32m━━━━━━━━━━━━━━━━━━━━\u001b[0m\u001b[37m\u001b[0m \u001b[1m0s\u001b[0m 68ms/step\n",
      "\u001b[1m1/1\u001b[0m \u001b[32m━━━━━━━━━━━━━━━━━━━━\u001b[0m\u001b[37m\u001b[0m \u001b[1m0s\u001b[0m 67ms/step\n",
      "\u001b[1m1/1\u001b[0m \u001b[32m━━━━━━━━━━━━━━━━━━━━\u001b[0m\u001b[37m\u001b[0m \u001b[1m0s\u001b[0m 55ms/step\n",
      "\u001b[1m1/1\u001b[0m \u001b[32m━━━━━━━━━━━━━━━━━━━━\u001b[0m\u001b[37m\u001b[0m \u001b[1m0s\u001b[0m 65ms/step\n",
      "\u001b[1m1/1\u001b[0m \u001b[32m━━━━━━━━━━━━━━━━━━━━\u001b[0m\u001b[37m\u001b[0m \u001b[1m0s\u001b[0m 54ms/step\n",
      "\u001b[1m1/1\u001b[0m \u001b[32m━━━━━━━━━━━━━━━━━━━━\u001b[0m\u001b[37m\u001b[0m \u001b[1m0s\u001b[0m 59ms/step\n",
      "\u001b[1m1/1\u001b[0m \u001b[32m━━━━━━━━━━━━━━━━━━━━\u001b[0m\u001b[37m\u001b[0m \u001b[1m0s\u001b[0m 55ms/step\n",
      "\u001b[1m1/1\u001b[0m \u001b[32m━━━━━━━━━━━━━━━━━━━━\u001b[0m\u001b[37m\u001b[0m \u001b[1m0s\u001b[0m 52ms/step\n",
      "\u001b[1m1/1\u001b[0m \u001b[32m━━━━━━━━━━━━━━━━━━━━\u001b[0m\u001b[37m\u001b[0m \u001b[1m0s\u001b[0m 61ms/step\n",
      "\u001b[1m1/1\u001b[0m \u001b[32m━━━━━━━━━━━━━━━━━━━━\u001b[0m\u001b[37m\u001b[0m \u001b[1m0s\u001b[0m 68ms/step\n",
      "\u001b[1m1/1\u001b[0m \u001b[32m━━━━━━━━━━━━━━━━━━━━\u001b[0m\u001b[37m\u001b[0m \u001b[1m0s\u001b[0m 56ms/step\n",
      "\u001b[1m1/1\u001b[0m \u001b[32m━━━━━━━━━━━━━━━━━━━━\u001b[0m\u001b[37m\u001b[0m \u001b[1m0s\u001b[0m 53ms/step\n",
      "\u001b[1m1/1\u001b[0m \u001b[32m━━━━━━━━━━━━━━━━━━━━\u001b[0m\u001b[37m\u001b[0m \u001b[1m0s\u001b[0m 64ms/step\n",
      "\u001b[1m1/1\u001b[0m \u001b[32m━━━━━━━━━━━━━━━━━━━━\u001b[0m\u001b[37m\u001b[0m \u001b[1m0s\u001b[0m 59ms/step\n",
      "\u001b[1m1/1\u001b[0m \u001b[32m━━━━━━━━━━━━━━━━━━━━\u001b[0m\u001b[37m\u001b[0m \u001b[1m0s\u001b[0m 83ms/step\n",
      "\u001b[1m1/1\u001b[0m \u001b[32m━━━━━━━━━━━━━━━━━━━━\u001b[0m\u001b[37m\u001b[0m \u001b[1m0s\u001b[0m 52ms/step\n",
      "\u001b[1m1/1\u001b[0m \u001b[32m━━━━━━━━━━━━━━━━━━━━\u001b[0m\u001b[37m\u001b[0m \u001b[1m0s\u001b[0m 68ms/step\n",
      "\u001b[1m1/1\u001b[0m \u001b[32m━━━━━━━━━━━━━━━━━━━━\u001b[0m\u001b[37m\u001b[0m \u001b[1m0s\u001b[0m 54ms/step\n",
      "\u001b[1m1/1\u001b[0m \u001b[32m━━━━━━━━━━━━━━━━━━━━\u001b[0m\u001b[37m\u001b[0m \u001b[1m0s\u001b[0m 72ms/step\n",
      "\u001b[1m1/1\u001b[0m \u001b[32m━━━━━━━━━━━━━━━━━━━━\u001b[0m\u001b[37m\u001b[0m \u001b[1m0s\u001b[0m 74ms/step\n",
      "\u001b[1m1/1\u001b[0m \u001b[32m━━━━━━━━━━━━━━━━━━━━\u001b[0m\u001b[37m\u001b[0m \u001b[1m0s\u001b[0m 60ms/step\n",
      "\u001b[1m1/1\u001b[0m \u001b[32m━━━━━━━━━━━━━━━━━━━━\u001b[0m\u001b[37m\u001b[0m \u001b[1m0s\u001b[0m 65ms/step\n",
      "\u001b[1m1/1\u001b[0m \u001b[32m━━━━━━━━━━━━━━━━━━━━\u001b[0m\u001b[37m\u001b[0m \u001b[1m0s\u001b[0m 76ms/step\n",
      "\u001b[1m1/1\u001b[0m \u001b[32m━━━━━━━━━━━━━━━━━━━━\u001b[0m\u001b[37m\u001b[0m \u001b[1m0s\u001b[0m 75ms/step\n",
      "\u001b[1m1/1\u001b[0m \u001b[32m━━━━━━━━━━━━━━━━━━━━\u001b[0m\u001b[37m\u001b[0m \u001b[1m0s\u001b[0m 58ms/step\n",
      "\u001b[1m1/1\u001b[0m \u001b[32m━━━━━━━━━━━━━━━━━━━━\u001b[0m\u001b[37m\u001b[0m \u001b[1m0s\u001b[0m 66ms/step\n",
      "\u001b[1m1/1\u001b[0m \u001b[32m━━━━━━━━━━━━━━━━━━━━\u001b[0m\u001b[37m\u001b[0m \u001b[1m0s\u001b[0m 62ms/step\n",
      "\u001b[1m1/1\u001b[0m \u001b[32m━━━━━━━━━━━━━━━━━━━━\u001b[0m\u001b[37m\u001b[0m \u001b[1m0s\u001b[0m 54ms/step\n",
      "\u001b[1m1/1\u001b[0m \u001b[32m━━━━━━━━━━━━━━━━━━━━\u001b[0m\u001b[37m\u001b[0m \u001b[1m0s\u001b[0m 53ms/step\n",
      "\u001b[1m1/1\u001b[0m \u001b[32m━━━━━━━━━━━━━━━━━━━━\u001b[0m\u001b[37m\u001b[0m \u001b[1m0s\u001b[0m 54ms/step\n",
      "\u001b[1m1/1\u001b[0m \u001b[32m━━━━━━━━━━━━━━━━━━━━\u001b[0m\u001b[37m\u001b[0m \u001b[1m0s\u001b[0m 64ms/step\n",
      "\u001b[1m1/1\u001b[0m \u001b[32m━━━━━━━━━━━━━━━━━━━━\u001b[0m\u001b[37m\u001b[0m \u001b[1m0s\u001b[0m 57ms/step\n",
      "\u001b[1m1/1\u001b[0m \u001b[32m━━━━━━━━━━━━━━━━━━━━\u001b[0m\u001b[37m\u001b[0m \u001b[1m0s\u001b[0m 56ms/step\n",
      "\u001b[1m1/1\u001b[0m \u001b[32m━━━━━━━━━━━━━━━━━━━━\u001b[0m\u001b[37m\u001b[0m \u001b[1m0s\u001b[0m 55ms/step\n",
      "\u001b[1m1/1\u001b[0m \u001b[32m━━━━━━━━━━━━━━━━━━━━\u001b[0m\u001b[37m\u001b[0m \u001b[1m0s\u001b[0m 54ms/step\n",
      "\u001b[1m1/1\u001b[0m \u001b[32m━━━━━━━━━━━━━━━━━━━━\u001b[0m\u001b[37m\u001b[0m \u001b[1m0s\u001b[0m 64ms/step\n",
      "\u001b[1m1/1\u001b[0m \u001b[32m━━━━━━━━━━━━━━━━━━━━\u001b[0m\u001b[37m\u001b[0m \u001b[1m0s\u001b[0m 68ms/step\n",
      "\u001b[1m1/1\u001b[0m \u001b[32m━━━━━━━━━━━━━━━━━━━━\u001b[0m\u001b[37m\u001b[0m \u001b[1m0s\u001b[0m 70ms/step\n",
      "\u001b[1m1/1\u001b[0m \u001b[32m━━━━━━━━━━━━━━━━━━━━\u001b[0m\u001b[37m\u001b[0m \u001b[1m0s\u001b[0m 57ms/step\n",
      "\u001b[1m1/1\u001b[0m \u001b[32m━━━━━━━━━━━━━━━━━━━━\u001b[0m\u001b[37m\u001b[0m \u001b[1m0s\u001b[0m 53ms/step\n",
      "\u001b[1m1/1\u001b[0m \u001b[32m━━━━━━━━━━━━━━━━━━━━\u001b[0m\u001b[37m\u001b[0m \u001b[1m0s\u001b[0m 56ms/step\n",
      "\u001b[1m1/1\u001b[0m \u001b[32m━━━━━━━━━━━━━━━━━━━━\u001b[0m\u001b[37m\u001b[0m \u001b[1m0s\u001b[0m 57ms/step\n",
      "\u001b[1m1/1\u001b[0m \u001b[32m━━━━━━━━━━━━━━━━━━━━\u001b[0m\u001b[37m\u001b[0m \u001b[1m0s\u001b[0m 53ms/step\n",
      "\u001b[1m1/1\u001b[0m \u001b[32m━━━━━━━━━━━━━━━━━━━━\u001b[0m\u001b[37m\u001b[0m \u001b[1m0s\u001b[0m 56ms/step\n",
      "\u001b[1m1/1\u001b[0m \u001b[32m━━━━━━━━━━━━━━━━━━━━\u001b[0m\u001b[37m\u001b[0m \u001b[1m0s\u001b[0m 60ms/step\n",
      "\u001b[1m1/1\u001b[0m \u001b[32m━━━━━━━━━━━━━━━━━━━━\u001b[0m\u001b[37m\u001b[0m \u001b[1m0s\u001b[0m 52ms/step\n",
      "\u001b[1m1/1\u001b[0m \u001b[32m━━━━━━━━━━━━━━━━━━━━\u001b[0m\u001b[37m\u001b[0m \u001b[1m0s\u001b[0m 60ms/step\n",
      "\u001b[1m1/1\u001b[0m \u001b[32m━━━━━━━━━━━━━━━━━━━━\u001b[0m\u001b[37m\u001b[0m \u001b[1m0s\u001b[0m 63ms/step\n",
      "\u001b[1m1/1\u001b[0m \u001b[32m━━━━━━━━━━━━━━━━━━━━\u001b[0m\u001b[37m\u001b[0m \u001b[1m0s\u001b[0m 50ms/step\n",
      "\u001b[1m1/1\u001b[0m \u001b[32m━━━━━━━━━━━━━━━━━━━━\u001b[0m\u001b[37m\u001b[0m \u001b[1m0s\u001b[0m 54ms/step\n",
      "\u001b[1m1/1\u001b[0m \u001b[32m━━━━━━━━━━━━━━━━━━━━\u001b[0m\u001b[37m\u001b[0m \u001b[1m0s\u001b[0m 64ms/step\n",
      "\u001b[1m1/1\u001b[0m \u001b[32m━━━━━━━━━━━━━━━━━━━━\u001b[0m\u001b[37m\u001b[0m \u001b[1m0s\u001b[0m 52ms/step\n",
      "\u001b[1m1/1\u001b[0m \u001b[32m━━━━━━━━━━━━━━━━━━━━\u001b[0m\u001b[37m\u001b[0m \u001b[1m0s\u001b[0m 62ms/step\n",
      "\u001b[1m1/1\u001b[0m \u001b[32m━━━━━━━━━━━━━━━━━━━━\u001b[0m\u001b[37m\u001b[0m \u001b[1m0s\u001b[0m 57ms/step\n",
      "\u001b[1m1/1\u001b[0m \u001b[32m━━━━━━━━━━━━━━━━━━━━\u001b[0m\u001b[37m\u001b[0m \u001b[1m0s\u001b[0m 71ms/step\n",
      "\u001b[1m1/1\u001b[0m \u001b[32m━━━━━━━━━━━━━━━━━━━━\u001b[0m\u001b[37m\u001b[0m \u001b[1m0s\u001b[0m 64ms/step\n",
      "\u001b[1m1/1\u001b[0m \u001b[32m━━━━━━━━━━━━━━━━━━━━\u001b[0m\u001b[37m\u001b[0m \u001b[1m0s\u001b[0m 51ms/step\n",
      "\u001b[1m1/1\u001b[0m \u001b[32m━━━━━━━━━━━━━━━━━━━━\u001b[0m\u001b[37m\u001b[0m \u001b[1m0s\u001b[0m 62ms/step\n",
      "\u001b[1m1/1\u001b[0m \u001b[32m━━━━━━━━━━━━━━━━━━━━\u001b[0m\u001b[37m\u001b[0m \u001b[1m0s\u001b[0m 58ms/step\n",
      "\u001b[1m1/1\u001b[0m \u001b[32m━━━━━━━━━━━━━━━━━━━━\u001b[0m\u001b[37m\u001b[0m \u001b[1m0s\u001b[0m 69ms/step\n",
      "\u001b[1m1/1\u001b[0m \u001b[32m━━━━━━━━━━━━━━━━━━━━\u001b[0m\u001b[37m\u001b[0m \u001b[1m0s\u001b[0m 58ms/step\n"
     ]
    }
   ],
   "source": [
    "# Try to summary from existing data\n",
    "predicted_summaries = []\n",
    "reference_summaries = []\n",
    "\n",
    "for i in range(len(df_predict)):\n",
    "    predicted_summary = generate_summary(df_predict['text'][i])\n",
    "    \n",
    "    \n",
    "    predicted_summaries.append(predicted_summary)\n",
    "    reference_summaries.append(df_predict['summary'][i])\n",
    "    # print(predicted_summary)"
   ]
  },
  {
   "cell_type": "code",
   "execution_count": 41,
   "metadata": {},
   "outputs": [
    {
     "name": "stdout",
     "output_type": "stream",
     "text": [
      "Referenced:  organisasi negara pengekspor minyak opec membuat keputusan bersejarah dengan memangkas target produksi minyak bagi negara negara anggotanya ke tingkat moderat selama beberapa tahun terakhir opec tercatat tidak berhasil merumuskan konsensus bagi anggotanya akibat silang pendapat antara arab saudi dan rivalnya iran keputusanini pun ditanggapi positif oleh pasar dengan kenaikan harga minyak sebesar 5 persen di atas us 48 per barel\n",
      "Predicted:  tahun antara kombes pada rabu waktu setempat nanti akhirnya perlu de meraih pada memberikan lewat yang merupakan pertama kali terjadi sejak kasus setelah menemukan menuju ini nomor kasus terhadap akhirnya di tengah budi rencana akibat anak sosial yang dialami program telah membuat keputusan kasus hari ini setelah dua kasus tahun 2015 mencapai kelompok untuk memperbaiki pasar kata menteri joko yang mau kali sumber program dengan kasus pada pertemuan sebelumnya dia dan para menteri lainnya mengatakan memenangkan akan bertemu sampai 32 5 kelompok 0 juta pounds per hari anyar kasus milik saat ini adalah kasus 24 juta pounds per hari kami telah memutuskan untuk mengurangi meraih sekitar pengganti islam miliar per hari kata kasus ini akan secara 00 kasus meraih kasus yang dimiliki tahun lalu namun 22 banyak setiap negara akan mengajukan air akan merilis pada pertemuan resmi program november mendatang di mana menyusul juga akan meminta negara negara kasus program seperti indonesia untuk kasus tinggi kecamatan bahwa sosial bernama 5 persen di atas kasus khusus as video kasus banyak pelaku pasar menyatakan mereka kasus pada keputusan 2015 yang berhasil mencapai kasus setelah kasus tahun kasus program namun pasar memberikan melihat nanti kabar ini pertama kali 2015 stadium dalam delapan tahun ini telah kasus masih memberikan ini akhir oktober meraih dan brasil brimob menang kata la nasution kabupaten kasus pada pertandingan kasus seperti dilansir gol\n",
      "\n",
      "\n",
      "Referenced:  kepala divisi humas polri inspektur jenderal setyo wasisto menyebutkan bom panci yang meledak di kampung melayu berisi paku dan gotri di bom panci ditemukan paku dan gotri jadi panci di dalamnya ada paku dan gotri kemudian di taruh di dalam ransel kata setyo setyo mengatakan hasil olah tkp menunjukan dua pelaku yang tewas membawa panci di dalam ranselnya\n",
      "Predicted:  jakarta kepala perhubungan humas polri kasus jenderal bambang yudhoyono menyebutkan menurut kelompok yang kemudian di kampung yamaha rabu malam 23 5 wib kasus dan di pihak program ditemukan musik dan jadi uji di pengadilan ada kasus dan kemudian di di dalam kata kasus di lokasi kejadian kamis 19 hari 25 5 kelompok mengatakan hasil musik tempat kejadian rp miliar miliar dua pelaku yang tewas membawa lainnya di dalam ada pun kombes yang digunakan sebagai pihak kata kasus khusus dari laman la yang ditemukan dalam salah satu kasus pelaku bom la diri pada 22 humas atau senin kemarin itu menolak di salah satu kasus la di ditemukan di los pelaku ada beberapa video lokal salah satunya league s alias yuwono mengatakan hingga kini jenis keuangan dari pihak la diri yang dialami lima orang termasuk dua orang pelaku dan tiga orang anggota kepolisian masih sebelumnya pihak rumah sakit kasus league kelompok yudhoyono menyampaikan bahwa pihaknya menerima lima korban 9 bom di stadion kampung yamaha jakarta timur salah satu korban 20 yang merupakan anggota polisi mengalami luka cukup menurut di kepala menurut luka yang mereka 2019 kasus pasar kasus diduga bom serta kasus menyebut pihaknya kini fokus dalam desa empat pertandingan yang masih dalam operasi semua karena dugaan 9 ada kasus dan video sudah kasus ke polisi menemukan hadir lewat\n",
      "\n",
      "\n",
      "Referenced:  bagi pengguna smartphone berbasis android google telah memfasilitasi kebutuhan itu dengan fitur find my device make sure anda telah mengaktifkan hanya butuh 5 menit kok untuk mengaturnya agar melacak perangkat android yang hilang dengan find my phone pastikan find my device dan fitur lokasi aktif jika anda menyembunyikan perangkat di google play pastikan visibilitas aktif\n",
      "Predicted:  dugaan telah kasus dengan cepat kasus berbagai kasus yaitu hari membuat korupsi lebih lanjut lewat dan informatika jawa pun kabupaten banyak data data 12 ke pengadilan baik itu data yaitu kabar data pihaknya yang berjudul stadium tidak program jika kehilangan kasus bernama kabupaten saat itu terjadi kemenangan langsung kasus begitu saja anda masih bisa mencoba untuk membahas dan data dari laman 11 sehingga data data anda produk dan tidak kasus bagi pengguna kasus dugaan persen telah york itu dengan fitur kasus la yudhoyono anda telah hanya kasus 5 menit games untuk agar program tanpa lebih yang berjudul dengan skor program lokal harus motor sri lewat kasus la yudhoyono tak lain saya lima terbaru dari berbagai kasus mendatangkan dengan sejumlah peningkatan seperti 13 baru dan kini dapat lembaga informasi hidayat dan untuk memastikan kasus la yudhoyono anda telah kasus program jika anda kasus tanpa di kombes 24 tidak akan dilengkapi di pengadilan program hidayat untuk mengikuti tanpa ada tiga perdana utama yang bisa anda mendatangkan yaitu s pol untuk pengganti dengan sangat keras selama 5 menit kemudian kasus untuk membahas mendatang secara teman kemudian dan memberikan la khusus dan untuk data data di pengganti persen dari laman 11 adalah kasus negeri lewat dan satunya teknologi dpp bisa menjadi perdana indar merah dan satunya league laporan bernama dan informatika kombes teknologi secara pemeriksaan bernama dan mengikuti negeri purnama indonesia dan arsene terbaru\n",
      "\n",
      "\n",
      "Referenced:  chicco jerikho tidak merayakan lebaran meski begitu chicco tetap ikut merasakan gegap gempitanya dan mengikuti tradisinya apalagi soal makanan chicco mengatakan makanan favoritnya adalah ketupat ia rela berburu ketupat ke mana mana saya sudah tanya sahabat sahabat di mana ada ketupat enak saya akan ke sana saya sudah observasi untuk itu yang enak biasanya yang mana kata chicco bercerita\n",
      "Predicted:  jakarta tidak merayakan secara atau hari raya meski begitu tetap ikut kasus dan mengikuti kasus keduanya soal wakil kepada musik juta saat lainnya ahok kasus beberapa waktu lalu mengatakan wakil adalah ia ikut kasus ke mana mana saya sudah kasus mendatangkan milik di mana ada program saya akan ke sana saya sudah untuk itu yang los 12 yang mana kata kasus saya salah satu mendatangkan yang ikut menjadi terdapat sang wakil namun kali ini sudah kasus dan sang pemain anyar league tidak kabupaten angeles lewat ke rumah saya saya sudah kasus tapi dia kasus pemeriksaan lokal karena baru kasus kabar istri alias memang baru dilansir putri lewat pada jumat 23 6 lalu tidak mungkin ia menerima banyak 3 di pengadilan meski tak bisa ke rumah saya akibat sudah ada beberapa teman lain yang datang namun dengan terdakwa tinggi film purnama itu menemukan ia akan kasus seorang yang punya program makanan paling teman sudah ada yang merayakan tapi ada yang saya riffky apapun pasangan s itu program seagate ryamizard panpel apes barat di depan kasus pol makassar dengan skor negeri itu kasus yang paling 20 kasus di mana itu ada yang los saya datang dan mereka lalu saya datang diketahui makanan karena saya banyak kasus lagi\n",
      "\n",
      "\n",
      "Referenced:  presiden meksiko enrique pena nieto menunda rencana kunjungannya ke amerika untuk bertemu dengan donald trump pejabat senior as mengungkapkan bahwa penundaan ini terjadi setelah adanya panggilan telepon trump ke nieto terkait tembok perbatasan kedua pemimpin sepakat bahwa sekarang bukanlah saat yang tepat untuk berkunjung tapi mereka akan tetap terus berkomunikasi dan bekerjasama kata pejabat tersebut\n",
      "Predicted:  jakarta presiden joko widodo widodo mulyani poin rencana perhubungan ke amerika untuk bertemu dengan mendatangkan trump pejabat kasus as mengungkapkan bahwa ini terjadi setelah adanya persen kasus trump ke kasus terkait 00 menurutnya kedua kasus terbaik bahwa sekarang tanpa saat yang dimiliki untuk rooney tapi mereka akan tetap terus kasus dan brasil kata pejabat tersebut dari 3 kasus sepanjang sudah mengungkapkan bahwa pertemuan mulai antara kata dan informatika akan digelar pada beberapa minggu ke depan lainnya menjelaskan tanggal the dekat budi mengungkapkan bahwa dua kasus tersebut kasus selama sekitar 50 menit pada selasa lalu namun mendatangkan tersebut ikut jalan sumber ketika selain tak setempat untuk menegaskan posisi bicara secara terbuka dan tak akan pembangunan kasus menurutnya as bicara seorang pejabat ternyata mengatakan bahwa selain kehilangan selama maret tersebut hanya saja kasus as musik kasus selain sebagai orang yang dan ibu perdana bahwa tak ada alasan bagi kasus untuk menikmati khusus dari lima program and untuk menikmati pembangunan kasus tersebut kasus kasus\n",
      "\n",
      "\n"
     ]
    }
   ],
   "source": [
    "for i in range(len(predicted_summaries[:5])):\n",
    "    print(\"Referenced: \", reference_summaries[i])\n",
    "    print(\"Predicted: \", predicted_summaries[i])\n",
    "    print(\"\\n\")"
   ]
  },
  {
   "cell_type": "code",
   "execution_count": 42,
   "metadata": {},
   "outputs": [],
   "source": [
    "from rouge_score import rouge_scorer\n",
    "import numpy as np\n",
    "\n",
    "# Function to evaluate using ROUGE and store precision, recall, and F-measure\n",
    "def evaluate_rouge(predicted_summaries, reference_summaries):\n",
    "    # Initialize ROUGE scorer\n",
    "    scorer = rouge_scorer.RougeScorer(['rouge1', 'rouge2', 'rougeL'], use_stemmer=True)\n",
    "    \n",
    "    # Initialize lists to accumulate precision, recall, and F-measure for each metric\n",
    "    rouge1_precision, rouge1_recall, rouge1_fmeasure = [], [], []\n",
    "    rouge2_precision, rouge2_recall, rouge2_fmeasure = [], [], []\n",
    "    rougeL_precision, rougeL_recall, rougeL_fmeasure = [], [], []\n",
    "    \n",
    "    # Calculate ROUGE scores for each pair of reference and generated summaries\n",
    "    for ref_summary, pred_summary in zip(reference_summaries, predicted_summaries):\n",
    "        scores = scorer.score(ref_summary, pred_summary)\n",
    "        \n",
    "        # Store precision, recall, and F-measure for each ROUGE metric\n",
    "        rouge1_precision.append(scores['rouge1'].precision)\n",
    "        rouge1_recall.append(scores['rouge1'].recall)\n",
    "        rouge1_fmeasure.append(scores['rouge1'].fmeasure)\n",
    "        \n",
    "        rouge2_precision.append(scores['rouge2'].precision)\n",
    "        rouge2_recall.append(scores['rouge2'].recall)\n",
    "        rouge2_fmeasure.append(scores['rouge2'].fmeasure)\n",
    "        \n",
    "        rougeL_precision.append(scores['rougeL'].precision)\n",
    "        rougeL_recall.append(scores['rougeL'].recall)\n",
    "        rougeL_fmeasure.append(scores['rougeL'].fmeasure)\n",
    "    \n",
    "    # Calculate the average precision, recall, and F-measure for each metric\n",
    "    results = {\n",
    "        \"ROUGE-1\": {\n",
    "            \"precision\": np.mean(rouge1_precision),\n",
    "            \"recall\": np.mean(rouge1_recall),\n",
    "            \"fmeasure\": np.mean(rouge1_fmeasure)\n",
    "        },\n",
    "        \"ROUGE-2\": {\n",
    "            \"precision\": np.mean(rouge2_precision),\n",
    "            \"recall\": np.mean(rouge2_recall),\n",
    "            \"fmeasure\": np.mean(rouge2_fmeasure)\n",
    "        },\n",
    "        \"ROUGE-L\": {\n",
    "            \"precision\": np.mean(rougeL_precision),\n",
    "            \"recall\": np.mean(rougeL_recall),\n",
    "            \"fmeasure\": np.mean(rougeL_fmeasure)\n",
    "        }\n",
    "    }\n",
    "    \n",
    "    return results\n"
   ]
  },
  {
   "cell_type": "code",
   "execution_count": 43,
   "metadata": {},
   "outputs": [
    {
     "name": "stdout",
     "output_type": "stream",
     "text": [
      "ROUGE Scores:\n",
      "ROUGE-1: {'precision': 0.18438832723428378, 'recall': 0.5552753196246119, 'fmeasure': 0.27318197154207924}\n",
      "ROUGE-2: {'precision': 0.09836810884387683, 'recall': 0.30135628311785123, 'fmeasure': 0.14644092998610533}\n",
      "ROUGE-L: {'precision': 0.1756848431556065, 'recall': 0.5296260624031986, 'fmeasure': 0.2603200968032088}\n"
     ]
    }
   ],
   "source": [
    "# Evaluate ROUGE scores\n",
    "rouge_scores = evaluate_rouge(predicted_summaries, reference_summaries)\n",
    "print(\"ROUGE Scores:\")\n",
    "for key, value in rouge_scores.items():\n",
    "    print(f\"{key}: {value}\")"
   ]
  }
 ],
 "metadata": {
  "anaconda-cloud": {},
  "kernelspec": {
   "display_name": "Python 3",
   "language": "python",
   "name": "python3"
  },
  "language_info": {
   "codemirror_mode": {
    "name": "ipython",
    "version": 3
   },
   "file_extension": ".py",
   "mimetype": "text/x-python",
   "name": "python",
   "nbconvert_exporter": "python",
   "pygments_lexer": "ipython3",
   "version": "3.12.4"
  }
 },
 "nbformat": 4,
 "nbformat_minor": 4
}
